{
  "nbformat": 4,
  "nbformat_minor": 0,
  "metadata": {
    "colab": {
      "provenance": []
    },
    "kernelspec": {
      "name": "python3",
      "display_name": "Python 3"
    },
    "language_info": {
      "name": "python"
    }
  },
  "cells": [
    {
      "cell_type": "code",
      "source": [
        "pip install numpy-stl"
      ],
      "metadata": {
        "colab": {
          "base_uri": "https://localhost:8080/"
        },
        "id": "WDxZJ4A7AyHj",
        "outputId": "455d7d80-8030-4c77-add9-b71462314404"
      },
      "execution_count": null,
      "outputs": [
        {
          "output_type": "stream",
          "name": "stdout",
          "text": [
            "Looking in indexes: https://pypi.org/simple, https://us-python.pkg.dev/colab-wheels/public/simple/\n",
            "Collecting numpy-stl\n",
            "  Downloading numpy_stl-3.0.1-py3-none-any.whl (19 kB)\n",
            "Requirement already satisfied: numpy in /usr/local/lib/python3.10/dist-packages (from numpy-stl) (1.22.4)\n",
            "Requirement already satisfied: python-utils>=3.4.5 in /usr/local/lib/python3.10/dist-packages (from numpy-stl) (3.5.2)\n",
            "Installing collected packages: numpy-stl\n",
            "Successfully installed numpy-stl-3.0.1\n"
          ]
        }
      ]
    },
    {
      "cell_type": "markdown",
      "source": [
        "#Para cualquier modelo 3d stl con triangulos"
      ],
      "metadata": {
        "id": "HqETBrOgn1pH"
      }
    },
    {
      "cell_type": "code",
      "source": [
        "import numpy as np\n",
        "from stl import mesh\n",
        "\n",
        "# Load the mesh using numpy-stl\n",
        "your_mesh = mesh.Mesh.from_file('./dataset/3mm_handle.stl')\n",
        "\n",
        "# Define the percentage of triangles to remove vertices from\n",
        "hole_percentage = 10\n",
        "\n",
        "# Get the total number of triangles in the mesh\n",
        "total_triangles = your_mesh.vectors.shape[0]\n",
        "\n",
        "# Calculate the number of triangles to remove vertices from\n",
        "num_holes = int(total_triangles * hole_percentage / 100)\n",
        "\n",
        "# Randomly select the triangles to remove vertices from\n",
        "hole_triangles = np.random.choice(total_triangles, num_holes, replace=False)\n",
        "\n",
        "# Remove the vertices of the selected triangles to create holes\n",
        "for triangle in hole_triangles:\n",
        "    your_mesh.vectors[triangle] = np.zeros((3, 3))\n",
        "\n",
        "# Save the modified mesh to a new file\n",
        "your_mesh.save('./dataset/3mm_handle_modified.stl')"
      ],
      "metadata": {
        "id": "AlvGOQg63tyY"
      },
      "execution_count": null,
      "outputs": []
    }
  ]
}